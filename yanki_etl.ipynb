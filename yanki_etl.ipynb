{
 "cells": [
  {
   "cell_type": "markdown",
   "metadata": {},
   "source": [
    "### importing necessary libraries"
   ]
  },
  {
   "cell_type": "code",
   "execution_count": 1,
   "metadata": {},
   "outputs": [],
   "source": [
    "import numpy as np\n",
    "import pandas as pd"
   ]
  },
  {
   "cell_type": "markdown",
   "metadata": {},
   "source": [
    "### extraction layer\n"
   ]
  },
  {
   "cell_type": "code",
   "execution_count": 2,
   "metadata": {},
   "outputs": [],
   "source": [
    "yanki_df = pd.read_csv(r'C:\\Users\\back2\\Desktop\\YANKI ECOMMERCE\\YANKI-ECOMMERCE-CASE_STUDY\\DATASET\\Rawdata\\yanki_ecommerce.csv')"
   ]
  },
  {
   "cell_type": "code",
   "execution_count": 4,
   "metadata": {},
   "outputs": [
    {
     "data": {
      "text/html": [
       "<div>\n",
       "<style scoped>\n",
       "    .dataframe tbody tr th:only-of-type {\n",
       "        vertical-align: middle;\n",
       "    }\n",
       "\n",
       "    .dataframe tbody tr th {\n",
       "        vertical-align: top;\n",
       "    }\n",
       "\n",
       "    .dataframe thead th {\n",
       "        text-align: right;\n",
       "    }\n",
       "</style>\n",
       "<table border=\"1\" class=\"dataframe\">\n",
       "  <thead>\n",
       "    <tr style=\"text-align: right;\">\n",
       "      <th></th>\n",
       "      <th>Order_ID</th>\n",
       "      <th>Customer_ID</th>\n",
       "      <th>Customer_Name</th>\n",
       "      <th>Product_ID</th>\n",
       "      <th>Product_Name</th>\n",
       "      <th>Brand</th>\n",
       "      <th>Category</th>\n",
       "      <th>Price</th>\n",
       "      <th>Quantity</th>\n",
       "      <th>Total_Price</th>\n",
       "      <th>Order_Date</th>\n",
       "      <th>Shipping_Address</th>\n",
       "      <th>City</th>\n",
       "      <th>State</th>\n",
       "      <th>Country</th>\n",
       "      <th>Postal_Code</th>\n",
       "      <th>Email</th>\n",
       "      <th>Phone_Number</th>\n",
       "      <th>Payment_Method</th>\n",
       "      <th>Transaction_Status</th>\n",
       "    </tr>\n",
       "  </thead>\n",
       "  <tbody>\n",
       "    <tr>\n",
       "      <th>0</th>\n",
       "      <td>NaN</td>\n",
       "      <td>NaN</td>\n",
       "      <td>NaN</td>\n",
       "      <td>64b689a8-bf03-47d2-a5cc-0723baeb1606</td>\n",
       "      <td>major</td>\n",
       "      <td>Haynes PLC</td>\n",
       "      <td>perfume</td>\n",
       "      <td>52.34</td>\n",
       "      <td>2</td>\n",
       "      <td>104.68</td>\n",
       "      <td>2020-05-27 14:20:38.292975</td>\n",
       "      <td>1648 Brown Bridge Apt. 846\\nCaitlinland, MI 57992</td>\n",
       "      <td>Davidstad</td>\n",
       "      <td>Utah</td>\n",
       "      <td>China</td>\n",
       "      <td>50247</td>\n",
       "      <td>karen64@example.com</td>\n",
       "      <td>001-217-511-0290x8262</td>\n",
       "      <td>Credit Card</td>\n",
       "      <td>completed</td>\n",
       "    </tr>\n",
       "    <tr>\n",
       "      <th>1</th>\n",
       "      <td>NaN</td>\n",
       "      <td>NaN</td>\n",
       "      <td>NaN</td>\n",
       "      <td>64b689a8-bf03-47d2-a5cc-0723baeb1606</td>\n",
       "      <td>major</td>\n",
       "      <td>Haynes PLC</td>\n",
       "      <td>perfume</td>\n",
       "      <td>52.34</td>\n",
       "      <td>2</td>\n",
       "      <td>104.68</td>\n",
       "      <td>2020-05-27 14:20:38.292975</td>\n",
       "      <td>1648 Brown Bridge Apt. 846\\nCaitlinland, MI 57992</td>\n",
       "      <td>Davidstad</td>\n",
       "      <td>Utah</td>\n",
       "      <td>China</td>\n",
       "      <td>50247</td>\n",
       "      <td>karen64@example.com</td>\n",
       "      <td>001-217-511-0290x8262</td>\n",
       "      <td>Credit Card</td>\n",
       "      <td>completed</td>\n",
       "    </tr>\n",
       "    <tr>\n",
       "      <th>2</th>\n",
       "      <td>e32af09a-b6ab-497e-af3a-331e4d4ed6e7</td>\n",
       "      <td>e0d6cb3c-c4b0-4cfe-8225-b65d094d2424</td>\n",
       "      <td>Dominic Buchanan</td>\n",
       "      <td>2ef6e8fa-6a36-4515-b1c2-a0a700abf386</td>\n",
       "      <td>despite</td>\n",
       "      <td>Lawson, Stone and Campos</td>\n",
       "      <td>perfume oil</td>\n",
       "      <td>250.57</td>\n",
       "      <td>2</td>\n",
       "      <td>501.14</td>\n",
       "      <td>2020-03-06 06:49:07.272117</td>\n",
       "      <td>PSC 2224, Box 2284\\nAPO AP 65880</td>\n",
       "      <td>Jordanborough</td>\n",
       "      <td>Arkansas</td>\n",
       "      <td>Kuwait</td>\n",
       "      <td>27879</td>\n",
       "      <td>margaret97@example.com</td>\n",
       "      <td>259.603.6134</td>\n",
       "      <td>Debit Card</td>\n",
       "      <td>completed</td>\n",
       "    </tr>\n",
       "    <tr>\n",
       "      <th>3</th>\n",
       "      <td>86eb8859-14ab-4d4e-9267-c5826f4e0c8e</td>\n",
       "      <td>fa3ca35a-5540-404b-a7eb-9001cdcbd840</td>\n",
       "      <td>Daniel Allen</td>\n",
       "      <td>3ba38e01-f8e7-4af2-9246-87ef0961d4f5</td>\n",
       "      <td>sea</td>\n",
       "      <td>Washington Group</td>\n",
       "      <td>perfume oil</td>\n",
       "      <td>179.81</td>\n",
       "      <td>6</td>\n",
       "      <td>1078.86</td>\n",
       "      <td>2020-07-31 07:09:30.231510</td>\n",
       "      <td>83909 Johnson Mall\\nTranberg, MS 99017</td>\n",
       "      <td>Lake Ginatown</td>\n",
       "      <td>Georgia</td>\n",
       "      <td>Saint Vincent and the Grenadines</td>\n",
       "      <td>39336</td>\n",
       "      <td>angela55@example.com</td>\n",
       "      <td>+1-869-659-4272x982</td>\n",
       "      <td>Credit Card</td>\n",
       "      <td>completed</td>\n",
       "    </tr>\n",
       "    <tr>\n",
       "      <th>4</th>\n",
       "      <td>7379b560-8897-4623-92a2-523ddcdc43a1</td>\n",
       "      <td>7ad4de53-e6d7-4cd3-99b8-13fb70fe7a34</td>\n",
       "      <td>Daniel Schmidt</td>\n",
       "      <td>a58c53bd-a34b-4541-b926-bec9eb84cac2</td>\n",
       "      <td>suddenly</td>\n",
       "      <td>Rodgers Ltd</td>\n",
       "      <td>perfume oil</td>\n",
       "      <td>600.55</td>\n",
       "      <td>7</td>\n",
       "      <td>4203.85</td>\n",
       "      <td>2021-05-11 04:33:09.707443</td>\n",
       "      <td>82101 Johnson Flat\\nWest Ryan, MS 29075</td>\n",
       "      <td>Sarahville</td>\n",
       "      <td>Ohio</td>\n",
       "      <td>France</td>\n",
       "      <td>30845</td>\n",
       "      <td>wayne59@example.org</td>\n",
       "      <td>292.840.0975x724</td>\n",
       "      <td>PayPal</td>\n",
       "      <td>pending</td>\n",
       "    </tr>\n",
       "  </tbody>\n",
       "</table>\n",
       "</div>"
      ],
      "text/plain": [
       "                               Order_ID                           Customer_ID  \\\n",
       "0                                   NaN                                   NaN   \n",
       "1                                   NaN                                   NaN   \n",
       "2  e32af09a-b6ab-497e-af3a-331e4d4ed6e7  e0d6cb3c-c4b0-4cfe-8225-b65d094d2424   \n",
       "3  86eb8859-14ab-4d4e-9267-c5826f4e0c8e  fa3ca35a-5540-404b-a7eb-9001cdcbd840   \n",
       "4  7379b560-8897-4623-92a2-523ddcdc43a1  7ad4de53-e6d7-4cd3-99b8-13fb70fe7a34   \n",
       "\n",
       "      Customer_Name                            Product_ID Product_Name  \\\n",
       "0               NaN  64b689a8-bf03-47d2-a5cc-0723baeb1606        major   \n",
       "1               NaN  64b689a8-bf03-47d2-a5cc-0723baeb1606        major   \n",
       "2  Dominic Buchanan  2ef6e8fa-6a36-4515-b1c2-a0a700abf386      despite   \n",
       "3      Daniel Allen  3ba38e01-f8e7-4af2-9246-87ef0961d4f5          sea   \n",
       "4    Daniel Schmidt  a58c53bd-a34b-4541-b926-bec9eb84cac2     suddenly   \n",
       "\n",
       "                      Brand     Category   Price  Quantity  Total_Price  \\\n",
       "0                Haynes PLC      perfume   52.34         2       104.68   \n",
       "1                Haynes PLC      perfume   52.34         2       104.68   \n",
       "2  Lawson, Stone and Campos  perfume oil  250.57         2       501.14   \n",
       "3          Washington Group  perfume oil  179.81         6      1078.86   \n",
       "4               Rodgers Ltd  perfume oil  600.55         7      4203.85   \n",
       "\n",
       "                   Order_Date  \\\n",
       "0  2020-05-27 14:20:38.292975   \n",
       "1  2020-05-27 14:20:38.292975   \n",
       "2  2020-03-06 06:49:07.272117   \n",
       "3  2020-07-31 07:09:30.231510   \n",
       "4  2021-05-11 04:33:09.707443   \n",
       "\n",
       "                                    Shipping_Address           City     State  \\\n",
       "0  1648 Brown Bridge Apt. 846\\nCaitlinland, MI 57992      Davidstad      Utah   \n",
       "1  1648 Brown Bridge Apt. 846\\nCaitlinland, MI 57992      Davidstad      Utah   \n",
       "2                   PSC 2224, Box 2284\\nAPO AP 65880  Jordanborough  Arkansas   \n",
       "3             83909 Johnson Mall\\nTranberg, MS 99017  Lake Ginatown   Georgia   \n",
       "4            82101 Johnson Flat\\nWest Ryan, MS 29075     Sarahville      Ohio   \n",
       "\n",
       "                            Country  Postal_Code                   Email  \\\n",
       "0                             China        50247     karen64@example.com   \n",
       "1                             China        50247     karen64@example.com   \n",
       "2                            Kuwait        27879  margaret97@example.com   \n",
       "3  Saint Vincent and the Grenadines        39336    angela55@example.com   \n",
       "4                            France        30845     wayne59@example.org   \n",
       "\n",
       "            Phone_Number Payment_Method Transaction_Status  \n",
       "0  001-217-511-0290x8262    Credit Card          completed  \n",
       "1  001-217-511-0290x8262    Credit Card          completed  \n",
       "2           259.603.6134     Debit Card          completed  \n",
       "3    +1-869-659-4272x982    Credit Card          completed  \n",
       "4       292.840.0975x724         PayPal            pending  "
      ]
     },
     "execution_count": 4,
     "metadata": {},
     "output_type": "execute_result"
    }
   ],
   "source": [
    "# to view your rawdata\n",
    "yanki_df.head()"
   ]
  },
  {
   "cell_type": "code",
   "execution_count": 5,
   "metadata": {},
   "outputs": [
    {
     "name": "stdout",
     "output_type": "stream",
     "text": [
      "<class 'pandas.core.frame.DataFrame'>\n",
      "RangeIndex: 1020 entries, 0 to 1019\n",
      "Data columns (total 20 columns):\n",
      " #   Column              Non-Null Count  Dtype  \n",
      "---  ------              --------------  -----  \n",
      " 0   Order_ID            1000 non-null   object \n",
      " 1   Customer_ID         1000 non-null   object \n",
      " 2   Customer_Name       1000 non-null   object \n",
      " 3   Product_ID          1020 non-null   object \n",
      " 4   Product_Name        1020 non-null   object \n",
      " 5   Brand               1020 non-null   object \n",
      " 6   Category            1020 non-null   object \n",
      " 7   Price               1020 non-null   float64\n",
      " 8   Quantity            1020 non-null   int64  \n",
      " 9   Total_Price         1020 non-null   float64\n",
      " 10  Order_Date          1020 non-null   object \n",
      " 11  Shipping_Address    1020 non-null   object \n",
      " 12  City                1020 non-null   object \n",
      " 13  State               1020 non-null   object \n",
      " 14  Country             1020 non-null   object \n",
      " 15  Postal_Code         1020 non-null   int64  \n",
      " 16  Email               1020 non-null   object \n",
      " 17  Phone_Number        1020 non-null   object \n",
      " 18  Payment_Method      1020 non-null   object \n",
      " 19  Transaction_Status  1020 non-null   object \n",
      "dtypes: float64(2), int64(2), object(16)\n",
      "memory usage: 159.5+ KB\n"
     ]
    }
   ],
   "source": [
    "# to view the structure of the data\n",
    "yanki_df.info()"
   ]
  },
  {
   "cell_type": "code",
   "execution_count": 6,
   "metadata": {},
   "outputs": [
    {
     "data": {
      "text/plain": [
       "Index(['Order_ID', 'Customer_ID', 'Customer_Name', 'Product_ID',\n",
       "       'Product_Name', 'Brand', 'Category', 'Price', 'Quantity', 'Total_Price',\n",
       "       'Order_Date', 'Shipping_Address', 'City', 'State', 'Country',\n",
       "       'Postal_Code', 'Email', 'Phone_Number', 'Payment_Method',\n",
       "       'Transaction_Status'],\n",
       "      dtype='object')"
      ]
     },
     "execution_count": 6,
     "metadata": {},
     "output_type": "execute_result"
    }
   ],
   "source": [
    "yanki_df.columns"
   ]
  },
  {
   "cell_type": "markdown",
   "metadata": {},
   "source": [
    "### DATA CLEANING AND TRANSFORMATION"
   ]
  },
  {
   "cell_type": "code",
   "execution_count": 7,
   "metadata": {},
   "outputs": [],
   "source": [
    "# DROP MISSING VALUES\n",
    "yanki_df.dropna(subset = ['Order_ID', 'Customer_ID'], inplace = True)"
   ]
  },
  {
   "cell_type": "code",
   "execution_count": 10,
   "metadata": {},
   "outputs": [
    {
     "name": "stdout",
     "output_type": "stream",
     "text": [
      "<class 'pandas.core.frame.DataFrame'>\n",
      "Index: 1000 entries, 2 to 1019\n",
      "Data columns (total 20 columns):\n",
      " #   Column              Non-Null Count  Dtype         \n",
      "---  ------              --------------  -----         \n",
      " 0   Order_ID            1000 non-null   object        \n",
      " 1   Customer_ID         1000 non-null   object        \n",
      " 2   Customer_Name       1000 non-null   object        \n",
      " 3   Product_ID          1000 non-null   object        \n",
      " 4   Product_Name        1000 non-null   object        \n",
      " 5   Brand               1000 non-null   object        \n",
      " 6   Category            1000 non-null   object        \n",
      " 7   Price               1000 non-null   float64       \n",
      " 8   Quantity            1000 non-null   int64         \n",
      " 9   Total_Price         1000 non-null   float64       \n",
      " 10  Order_Date          1000 non-null   datetime64[ns]\n",
      " 11  Shipping_Address    1000 non-null   object        \n",
      " 12  City                1000 non-null   object        \n",
      " 13  State               1000 non-null   object        \n",
      " 14  Country             1000 non-null   object        \n",
      " 15  Postal_Code         1000 non-null   int64         \n",
      " 16  Email               1000 non-null   object        \n",
      " 17  Phone_Number        1000 non-null   object        \n",
      " 18  Payment_Method      1000 non-null   object        \n",
      " 19  Transaction_Status  1000 non-null   object        \n",
      "dtypes: datetime64[ns](1), float64(2), int64(2), object(15)\n",
      "memory usage: 164.1+ KB\n"
     ]
    }
   ],
   "source": [
    "yanki_df.info()"
   ]
  },
  {
   "cell_type": "code",
   "execution_count": 9,
   "metadata": {},
   "outputs": [],
   "source": [
    "# CONVERT ORDER DATE FROM STRING TO DATETIME OBJECT\n",
    "yanki_df['Order_Date'] = pd.to_datetime(yanki_df['Order_Date'])"
   ]
  },
  {
   "cell_type": "code",
   "execution_count": null,
   "metadata": {},
   "outputs": [],
   "source": [
    "# CREATING THE TABLES\n",
    "# CUSTOMERS TABLE\n",
    "Customer_df = yanki_df[['Customer_ID', 'Customer_Name', 'Email', 'Phone_Number']].copy().drop_duplicates().reset_index(drop=True)\n",
    "Customer_df.head()"
   ]
  },
  {
   "cell_type": "code",
   "execution_count": null,
   "metadata": {},
   "outputs": [],
   "source": [
    "# PRODUCT TABLE\n",
    "Product_df = yanki_df[['Product_ID', 'Product_Name', 'Brand', 'Category', 'Price',]].copy().drop_duplicates().reset_index(drop=True)\n",
    "Product_df.head()"
   ]
  },
  {
   "cell_type": "code",
   "execution_count": null,
   "metadata": {},
   "outputs": [],
   "source": [
    "## SHIPPING ADDRESS TABLE\n",
    "Shipping_Address_df = yanki_df[['Customer_ID', 'Shipping_Address', 'City', 'State', 'Country','Postal_Code',]].copy().drop_duplicates().reset_index(drop=True )\n",
    "Shipping_Address_df.head()\n",
    "# how to add shipping_ID which is the created primary key as a column in the table\n",
    "Shipping_Address_df.index.name = 'Shipping_ID'\n",
    "Shipping_Address_df = Shipping_Address_df.reset_index()\n",
    "Shipping_Address_df.head()"
   ]
  },
  {
   "cell_type": "code",
   "execution_count": null,
   "metadata": {},
   "outputs": [],
   "source": [
    "# ORDER TABLE\n",
    "Order_df = yanki_df[['Order_ID', 'Customer_ID','Product_ID', 'Quantity', 'Total_Price','Order_Date',]].copy().drop_duplicates().reset_index(drop=True )\n",
    "Order_df.head()"
   ]
  },
  {
   "cell_type": "code",
   "execution_count": null,
   "metadata": {},
   "outputs": [],
   "source": [
    "Payment_Method_df = yanki_df[['Order_ID','Transaction_Status', 'Payment_Method',]].copy().drop_duplicates().reset_index(drop=True )\n",
    "Payment_Method_df.head()\n"
   ]
  },
  {
   "cell_type": "code",
   "execution_count": 27,
   "metadata": {},
   "outputs": [],
   "source": [
    "# SAVE THE TABLES TO CSV\n",
    "Customer_df.to_csv(r'DATASET\\Cleaned_data\\Customers.csv', index=False)\n",
    "Product_df.to_csv(r'DATASET\\Cleaned_data\\Product.csv', index=False)\n",
    "Shipping_Address_df.to_csv(r'DATASET\\Cleaned_data\\Shipping_Address.csv', index=False)\n",
    "Order_df.to_csv(r'DATASET\\Cleaned_data\\Order.csv', index=False)\n",
    "Payment_Method_df.to_csv(r'DATASET\\Cleaned_data\\Payment_Method.csv', index=False)"
   ]
  },
  {
   "cell_type": "code",
   "execution_count": 12,
   "metadata": {},
   "outputs": [
    {
     "data": {
      "text/plain": [
       "Index(['Order_ID', 'Customer_ID', 'Customer_Name', 'Product_ID',\n",
       "       'Product_Name', 'Brand', 'Category', 'Price', 'Quantity', 'Total_Price',\n",
       "       'Order_Date', 'Shipping_Address', 'City', 'State', 'Country',\n",
       "       'Postal_Code', 'Email', 'Phone_Number', 'Payment_Method',\n",
       "       'Transaction_Status'],\n",
       "      dtype='object')"
      ]
     },
     "execution_count": 12,
     "metadata": {},
     "output_type": "execute_result"
    }
   ],
   "source": [
    "yanki_df.columns"
   ]
  }
 ],
 "metadata": {
  "kernelspec": {
   "display_name": "base",
   "language": "python",
   "name": "python3"
  },
  "language_info": {
   "codemirror_mode": {
    "name": "ipython",
    "version": 3
   },
   "file_extension": ".py",
   "mimetype": "text/x-python",
   "name": "python",
   "nbconvert_exporter": "python",
   "pygments_lexer": "ipython3",
   "version": "3.11.7"
  }
 },
 "nbformat": 4,
 "nbformat_minor": 2
}
