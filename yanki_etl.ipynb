{
 "cells": [
  {
   "cell_type": "markdown",
   "metadata": {},
   "source": [
    "### importing necessary libraries"
   ]
  },
  {
   "cell_type": "code",
   "execution_count": 57,
   "metadata": {},
   "outputs": [],
   "source": [
    "import numpy as np\n",
    "import pandas as pd"
   ]
  },
  {
   "cell_type": "markdown",
   "metadata": {},
   "source": [
    "### extraction layer\n"
   ]
  },
  {
   "cell_type": "code",
   "execution_count": 58,
   "metadata": {},
   "outputs": [],
   "source": [
    "yanki_df = pd.read_csv(r'C:\\Users\\back2\\Desktop\\YANKI ECOMMERCE\\YANKI-ECOMMERCE-CASE_STUDY\\DATASET\\Rawdata\\yanki_ecommerce.csv')"
   ]
  },
  {
   "cell_type": "code",
   "execution_count": 59,
   "metadata": {},
   "outputs": [
    {
     "data": {
      "text/html": [
       "<div>\n",
       "<style scoped>\n",
       "    .dataframe tbody tr th:only-of-type {\n",
       "        vertical-align: middle;\n",
       "    }\n",
       "\n",
       "    .dataframe tbody tr th {\n",
       "        vertical-align: top;\n",
       "    }\n",
       "\n",
       "    .dataframe thead th {\n",
       "        text-align: right;\n",
       "    }\n",
       "</style>\n",
       "<table border=\"1\" class=\"dataframe\">\n",
       "  <thead>\n",
       "    <tr style=\"text-align: right;\">\n",
       "      <th></th>\n",
       "      <th>Order_ID</th>\n",
       "      <th>Customer_ID</th>\n",
       "      <th>Customer_Name</th>\n",
       "      <th>Product_ID</th>\n",
       "      <th>Product_Name</th>\n",
       "      <th>Brand</th>\n",
       "      <th>Category</th>\n",
       "      <th>Price</th>\n",
       "      <th>Quantity</th>\n",
       "      <th>Total_Price</th>\n",
       "      <th>Order_Date</th>\n",
       "      <th>Shipping_Address</th>\n",
       "      <th>City</th>\n",
       "      <th>State</th>\n",
       "      <th>Country</th>\n",
       "      <th>Postal_Code</th>\n",
       "      <th>Email</th>\n",
       "      <th>Phone_Number</th>\n",
       "      <th>Payment_Method</th>\n",
       "      <th>Transaction_Status</th>\n",
       "    </tr>\n",
       "  </thead>\n",
       "  <tbody>\n",
       "    <tr>\n",
       "      <th>0</th>\n",
       "      <td>NaN</td>\n",
       "      <td>NaN</td>\n",
       "      <td>NaN</td>\n",
       "      <td>64b689a8-bf03-47d2-a5cc-0723baeb1606</td>\n",
       "      <td>major</td>\n",
       "      <td>Haynes PLC</td>\n",
       "      <td>perfume</td>\n",
       "      <td>52.34</td>\n",
       "      <td>2</td>\n",
       "      <td>104.68</td>\n",
       "      <td>2020-05-27 14:20:38.292975</td>\n",
       "      <td>1648 Brown Bridge Apt. 846\\nCaitlinland, MI 57992</td>\n",
       "      <td>Davidstad</td>\n",
       "      <td>Utah</td>\n",
       "      <td>China</td>\n",
       "      <td>50247</td>\n",
       "      <td>karen64@example.com</td>\n",
       "      <td>001-217-511-0290x8262</td>\n",
       "      <td>Credit Card</td>\n",
       "      <td>completed</td>\n",
       "    </tr>\n",
       "    <tr>\n",
       "      <th>1</th>\n",
       "      <td>NaN</td>\n",
       "      <td>NaN</td>\n",
       "      <td>NaN</td>\n",
       "      <td>64b689a8-bf03-47d2-a5cc-0723baeb1606</td>\n",
       "      <td>major</td>\n",
       "      <td>Haynes PLC</td>\n",
       "      <td>perfume</td>\n",
       "      <td>52.34</td>\n",
       "      <td>2</td>\n",
       "      <td>104.68</td>\n",
       "      <td>2020-05-27 14:20:38.292975</td>\n",
       "      <td>1648 Brown Bridge Apt. 846\\nCaitlinland, MI 57992</td>\n",
       "      <td>Davidstad</td>\n",
       "      <td>Utah</td>\n",
       "      <td>China</td>\n",
       "      <td>50247</td>\n",
       "      <td>karen64@example.com</td>\n",
       "      <td>001-217-511-0290x8262</td>\n",
       "      <td>Credit Card</td>\n",
       "      <td>completed</td>\n",
       "    </tr>\n",
       "    <tr>\n",
       "      <th>2</th>\n",
       "      <td>e32af09a-b6ab-497e-af3a-331e4d4ed6e7</td>\n",
       "      <td>e0d6cb3c-c4b0-4cfe-8225-b65d094d2424</td>\n",
       "      <td>Dominic Buchanan</td>\n",
       "      <td>2ef6e8fa-6a36-4515-b1c2-a0a700abf386</td>\n",
       "      <td>despite</td>\n",
       "      <td>Lawson, Stone and Campos</td>\n",
       "      <td>perfume oil</td>\n",
       "      <td>250.57</td>\n",
       "      <td>2</td>\n",
       "      <td>501.14</td>\n",
       "      <td>2020-03-06 06:49:07.272117</td>\n",
       "      <td>PSC 2224, Box 2284\\nAPO AP 65880</td>\n",
       "      <td>Jordanborough</td>\n",
       "      <td>Arkansas</td>\n",
       "      <td>Kuwait</td>\n",
       "      <td>27879</td>\n",
       "      <td>margaret97@example.com</td>\n",
       "      <td>259.603.6134</td>\n",
       "      <td>Debit Card</td>\n",
       "      <td>completed</td>\n",
       "    </tr>\n",
       "    <tr>\n",
       "      <th>3</th>\n",
       "      <td>86eb8859-14ab-4d4e-9267-c5826f4e0c8e</td>\n",
       "      <td>fa3ca35a-5540-404b-a7eb-9001cdcbd840</td>\n",
       "      <td>Daniel Allen</td>\n",
       "      <td>3ba38e01-f8e7-4af2-9246-87ef0961d4f5</td>\n",
       "      <td>sea</td>\n",
       "      <td>Washington Group</td>\n",
       "      <td>perfume oil</td>\n",
       "      <td>179.81</td>\n",
       "      <td>6</td>\n",
       "      <td>1078.86</td>\n",
       "      <td>2020-07-31 07:09:30.231510</td>\n",
       "      <td>83909 Johnson Mall\\nTranberg, MS 99017</td>\n",
       "      <td>Lake Ginatown</td>\n",
       "      <td>Georgia</td>\n",
       "      <td>Saint Vincent and the Grenadines</td>\n",
       "      <td>39336</td>\n",
       "      <td>angela55@example.com</td>\n",
       "      <td>+1-869-659-4272x982</td>\n",
       "      <td>Credit Card</td>\n",
       "      <td>completed</td>\n",
       "    </tr>\n",
       "    <tr>\n",
       "      <th>4</th>\n",
       "      <td>7379b560-8897-4623-92a2-523ddcdc43a1</td>\n",
       "      <td>7ad4de53-e6d7-4cd3-99b8-13fb70fe7a34</td>\n",
       "      <td>Daniel Schmidt</td>\n",
       "      <td>a58c53bd-a34b-4541-b926-bec9eb84cac2</td>\n",
       "      <td>suddenly</td>\n",
       "      <td>Rodgers Ltd</td>\n",
       "      <td>perfume oil</td>\n",
       "      <td>600.55</td>\n",
       "      <td>7</td>\n",
       "      <td>4203.85</td>\n",
       "      <td>2021-05-11 04:33:09.707443</td>\n",
       "      <td>82101 Johnson Flat\\nWest Ryan, MS 29075</td>\n",
       "      <td>Sarahville</td>\n",
       "      <td>Ohio</td>\n",
       "      <td>France</td>\n",
       "      <td>30845</td>\n",
       "      <td>wayne59@example.org</td>\n",
       "      <td>292.840.0975x724</td>\n",
       "      <td>PayPal</td>\n",
       "      <td>pending</td>\n",
       "    </tr>\n",
       "  </tbody>\n",
       "</table>\n",
       "</div>"
      ],
      "text/plain": [
       "                               Order_ID                           Customer_ID  \\\n",
       "0                                   NaN                                   NaN   \n",
       "1                                   NaN                                   NaN   \n",
       "2  e32af09a-b6ab-497e-af3a-331e4d4ed6e7  e0d6cb3c-c4b0-4cfe-8225-b65d094d2424   \n",
       "3  86eb8859-14ab-4d4e-9267-c5826f4e0c8e  fa3ca35a-5540-404b-a7eb-9001cdcbd840   \n",
       "4  7379b560-8897-4623-92a2-523ddcdc43a1  7ad4de53-e6d7-4cd3-99b8-13fb70fe7a34   \n",
       "\n",
       "      Customer_Name                            Product_ID Product_Name  \\\n",
       "0               NaN  64b689a8-bf03-47d2-a5cc-0723baeb1606        major   \n",
       "1               NaN  64b689a8-bf03-47d2-a5cc-0723baeb1606        major   \n",
       "2  Dominic Buchanan  2ef6e8fa-6a36-4515-b1c2-a0a700abf386      despite   \n",
       "3      Daniel Allen  3ba38e01-f8e7-4af2-9246-87ef0961d4f5          sea   \n",
       "4    Daniel Schmidt  a58c53bd-a34b-4541-b926-bec9eb84cac2     suddenly   \n",
       "\n",
       "                      Brand     Category   Price  Quantity  Total_Price  \\\n",
       "0                Haynes PLC      perfume   52.34         2       104.68   \n",
       "1                Haynes PLC      perfume   52.34         2       104.68   \n",
       "2  Lawson, Stone and Campos  perfume oil  250.57         2       501.14   \n",
       "3          Washington Group  perfume oil  179.81         6      1078.86   \n",
       "4               Rodgers Ltd  perfume oil  600.55         7      4203.85   \n",
       "\n",
       "                   Order_Date  \\\n",
       "0  2020-05-27 14:20:38.292975   \n",
       "1  2020-05-27 14:20:38.292975   \n",
       "2  2020-03-06 06:49:07.272117   \n",
       "3  2020-07-31 07:09:30.231510   \n",
       "4  2021-05-11 04:33:09.707443   \n",
       "\n",
       "                                    Shipping_Address           City     State  \\\n",
       "0  1648 Brown Bridge Apt. 846\\nCaitlinland, MI 57992      Davidstad      Utah   \n",
       "1  1648 Brown Bridge Apt. 846\\nCaitlinland, MI 57992      Davidstad      Utah   \n",
       "2                   PSC 2224, Box 2284\\nAPO AP 65880  Jordanborough  Arkansas   \n",
       "3             83909 Johnson Mall\\nTranberg, MS 99017  Lake Ginatown   Georgia   \n",
       "4            82101 Johnson Flat\\nWest Ryan, MS 29075     Sarahville      Ohio   \n",
       "\n",
       "                            Country  Postal_Code                   Email  \\\n",
       "0                             China        50247     karen64@example.com   \n",
       "1                             China        50247     karen64@example.com   \n",
       "2                            Kuwait        27879  margaret97@example.com   \n",
       "3  Saint Vincent and the Grenadines        39336    angela55@example.com   \n",
       "4                            France        30845     wayne59@example.org   \n",
       "\n",
       "            Phone_Number Payment_Method Transaction_Status  \n",
       "0  001-217-511-0290x8262    Credit Card          completed  \n",
       "1  001-217-511-0290x8262    Credit Card          completed  \n",
       "2           259.603.6134     Debit Card          completed  \n",
       "3    +1-869-659-4272x982    Credit Card          completed  \n",
       "4       292.840.0975x724         PayPal            pending  "
      ]
     },
     "execution_count": 59,
     "metadata": {},
     "output_type": "execute_result"
    }
   ],
   "source": [
    "# to view your rawdata\n",
    "yanki_df.head()"
   ]
  },
  {
   "cell_type": "code",
   "execution_count": 60,
   "metadata": {},
   "outputs": [
    {
     "name": "stdout",
     "output_type": "stream",
     "text": [
      "<class 'pandas.core.frame.DataFrame'>\n",
      "RangeIndex: 1020 entries, 0 to 1019\n",
      "Data columns (total 20 columns):\n",
      " #   Column              Non-Null Count  Dtype  \n",
      "---  ------              --------------  -----  \n",
      " 0   Order_ID            1000 non-null   object \n",
      " 1   Customer_ID         1000 non-null   object \n",
      " 2   Customer_Name       1000 non-null   object \n",
      " 3   Product_ID          1020 non-null   object \n",
      " 4   Product_Name        1020 non-null   object \n",
      " 5   Brand               1020 non-null   object \n",
      " 6   Category            1020 non-null   object \n",
      " 7   Price               1020 non-null   float64\n",
      " 8   Quantity            1020 non-null   int64  \n",
      " 9   Total_Price         1020 non-null   float64\n",
      " 10  Order_Date          1020 non-null   object \n",
      " 11  Shipping_Address    1020 non-null   object \n",
      " 12  City                1020 non-null   object \n",
      " 13  State               1020 non-null   object \n",
      " 14  Country             1020 non-null   object \n",
      " 15  Postal_Code         1020 non-null   int64  \n",
      " 16  Email               1020 non-null   object \n",
      " 17  Phone_Number        1020 non-null   object \n",
      " 18  Payment_Method      1020 non-null   object \n",
      " 19  Transaction_Status  1020 non-null   object \n",
      "dtypes: float64(2), int64(2), object(16)\n",
      "memory usage: 159.5+ KB\n"
     ]
    }
   ],
   "source": [
    "# to view the structure of the data\n",
    "yanki_df.info()"
   ]
  },
  {
   "cell_type": "code",
   "execution_count": 61,
   "metadata": {},
   "outputs": [
    {
     "data": {
      "text/plain": [
       "Index(['Order_ID', 'Customer_ID', 'Customer_Name', 'Product_ID',\n",
       "       'Product_Name', 'Brand', 'Category', 'Price', 'Quantity', 'Total_Price',\n",
       "       'Order_Date', 'Shipping_Address', 'City', 'State', 'Country',\n",
       "       'Postal_Code', 'Email', 'Phone_Number', 'Payment_Method',\n",
       "       'Transaction_Status'],\n",
       "      dtype='object')"
      ]
     },
     "execution_count": 61,
     "metadata": {},
     "output_type": "execute_result"
    }
   ],
   "source": [
    "yanki_df.columns"
   ]
  },
  {
   "cell_type": "markdown",
   "metadata": {},
   "source": [
    "### DATA CLEANING AND TRANSFORMATION"
   ]
  },
  {
   "cell_type": "code",
   "execution_count": 62,
   "metadata": {},
   "outputs": [],
   "source": [
    "# DROP MISSING VALUES\n",
    "yanki_df.dropna(subset = ['Order_ID', 'Customer_ID'], inplace = True)"
   ]
  },
  {
   "cell_type": "code",
   "execution_count": 63,
   "metadata": {},
   "outputs": [
    {
     "name": "stdout",
     "output_type": "stream",
     "text": [
      "<class 'pandas.core.frame.DataFrame'>\n",
      "Index: 1000 entries, 2 to 1019\n",
      "Data columns (total 20 columns):\n",
      " #   Column              Non-Null Count  Dtype  \n",
      "---  ------              --------------  -----  \n",
      " 0   Order_ID            1000 non-null   object \n",
      " 1   Customer_ID         1000 non-null   object \n",
      " 2   Customer_Name       1000 non-null   object \n",
      " 3   Product_ID          1000 non-null   object \n",
      " 4   Product_Name        1000 non-null   object \n",
      " 5   Brand               1000 non-null   object \n",
      " 6   Category            1000 non-null   object \n",
      " 7   Price               1000 non-null   float64\n",
      " 8   Quantity            1000 non-null   int64  \n",
      " 9   Total_Price         1000 non-null   float64\n",
      " 10  Order_Date          1000 non-null   object \n",
      " 11  Shipping_Address    1000 non-null   object \n",
      " 12  City                1000 non-null   object \n",
      " 13  State               1000 non-null   object \n",
      " 14  Country             1000 non-null   object \n",
      " 15  Postal_Code         1000 non-null   int64  \n",
      " 16  Email               1000 non-null   object \n",
      " 17  Phone_Number        1000 non-null   object \n",
      " 18  Payment_Method      1000 non-null   object \n",
      " 19  Transaction_Status  1000 non-null   object \n",
      "dtypes: float64(2), int64(2), object(16)\n",
      "memory usage: 164.1+ KB\n"
     ]
    }
   ],
   "source": [
    "yanki_df.info()"
   ]
  },
  {
   "cell_type": "code",
   "execution_count": 64,
   "metadata": {},
   "outputs": [],
   "source": [
    "# CONVERT ORDER DATE FROM STRING TO DATETIME OBJECT\n",
    "yanki_df['Order_Date'] = pd.to_datetime(yanki_df['Order_Date'])"
   ]
  },
  {
   "cell_type": "code",
   "execution_count": 65,
   "metadata": {},
   "outputs": [
    {
     "data": {
      "text/html": [
       "<div>\n",
       "<style scoped>\n",
       "    .dataframe tbody tr th:only-of-type {\n",
       "        vertical-align: middle;\n",
       "    }\n",
       "\n",
       "    .dataframe tbody tr th {\n",
       "        vertical-align: top;\n",
       "    }\n",
       "\n",
       "    .dataframe thead th {\n",
       "        text-align: right;\n",
       "    }\n",
       "</style>\n",
       "<table border=\"1\" class=\"dataframe\">\n",
       "  <thead>\n",
       "    <tr style=\"text-align: right;\">\n",
       "      <th></th>\n",
       "      <th>Customer_ID</th>\n",
       "      <th>Customer_Name</th>\n",
       "      <th>Email</th>\n",
       "      <th>Phone_Number</th>\n",
       "    </tr>\n",
       "  </thead>\n",
       "  <tbody>\n",
       "    <tr>\n",
       "      <th>0</th>\n",
       "      <td>e0d6cb3c-c4b0-4cfe-8225-b65d094d2424</td>\n",
       "      <td>Dominic Buchanan</td>\n",
       "      <td>margaret97@example.com</td>\n",
       "      <td>259.603.6134</td>\n",
       "    </tr>\n",
       "    <tr>\n",
       "      <th>1</th>\n",
       "      <td>fa3ca35a-5540-404b-a7eb-9001cdcbd840</td>\n",
       "      <td>Daniel Allen</td>\n",
       "      <td>angela55@example.com</td>\n",
       "      <td>+1-869-659-4272x982</td>\n",
       "    </tr>\n",
       "    <tr>\n",
       "      <th>2</th>\n",
       "      <td>7ad4de53-e6d7-4cd3-99b8-13fb70fe7a34</td>\n",
       "      <td>Daniel Schmidt</td>\n",
       "      <td>wayne59@example.org</td>\n",
       "      <td>292.840.0975x724</td>\n",
       "    </tr>\n",
       "    <tr>\n",
       "      <th>3</th>\n",
       "      <td>4b9b409c-19f2-41c0-bc7c-6556e0647ebb</td>\n",
       "      <td>John Gonzalez</td>\n",
       "      <td>qsherman@example.com</td>\n",
       "      <td>+1-643-561-3912x262</td>\n",
       "    </tr>\n",
       "    <tr>\n",
       "      <th>4</th>\n",
       "      <td>81b513ad-5c02-48cf-bff0-39e1440c4d22</td>\n",
       "      <td>Amber Benitez</td>\n",
       "      <td>derek85@example.com</td>\n",
       "      <td>3424148376</td>\n",
       "    </tr>\n",
       "  </tbody>\n",
       "</table>\n",
       "</div>"
      ],
      "text/plain": [
       "                            Customer_ID     Customer_Name  \\\n",
       "0  e0d6cb3c-c4b0-4cfe-8225-b65d094d2424  Dominic Buchanan   \n",
       "1  fa3ca35a-5540-404b-a7eb-9001cdcbd840      Daniel Allen   \n",
       "2  7ad4de53-e6d7-4cd3-99b8-13fb70fe7a34    Daniel Schmidt   \n",
       "3  4b9b409c-19f2-41c0-bc7c-6556e0647ebb     John Gonzalez   \n",
       "4  81b513ad-5c02-48cf-bff0-39e1440c4d22     Amber Benitez   \n",
       "\n",
       "                    Email         Phone_Number  \n",
       "0  margaret97@example.com         259.603.6134  \n",
       "1    angela55@example.com  +1-869-659-4272x982  \n",
       "2     wayne59@example.org     292.840.0975x724  \n",
       "3    qsherman@example.com  +1-643-561-3912x262  \n",
       "4     derek85@example.com           3424148376  "
      ]
     },
     "execution_count": 65,
     "metadata": {},
     "output_type": "execute_result"
    }
   ],
   "source": [
    "# CREATING THE TABLES\n",
    "# CUSTOMERS TABLE\n",
    "Customer_df = yanki_df[['Customer_ID', 'Customer_Name', 'Email', 'Phone_Number']].copy().drop_duplicates().reset_index(drop=True)\n",
    "Customer_df.head()"
   ]
  },
  {
   "cell_type": "code",
   "execution_count": 80,
   "metadata": {},
   "outputs": [
    {
     "data": {
      "text/html": [
       "<div>\n",
       "<style scoped>\n",
       "    .dataframe tbody tr th:only-of-type {\n",
       "        vertical-align: middle;\n",
       "    }\n",
       "\n",
       "    .dataframe tbody tr th {\n",
       "        vertical-align: top;\n",
       "    }\n",
       "\n",
       "    .dataframe thead th {\n",
       "        text-align: right;\n",
       "    }\n",
       "</style>\n",
       "<table border=\"1\" class=\"dataframe\">\n",
       "  <thead>\n",
       "    <tr style=\"text-align: right;\">\n",
       "      <th></th>\n",
       "      <th>Product_ID</th>\n",
       "      <th>Product_Name</th>\n",
       "      <th>Brand</th>\n",
       "      <th>Category</th>\n",
       "      <th>Price</th>\n",
       "    </tr>\n",
       "  </thead>\n",
       "  <tbody>\n",
       "    <tr>\n",
       "      <th>0</th>\n",
       "      <td>2ef6e8fa-6a36-4515-b1c2-a0a700abf386</td>\n",
       "      <td>despite</td>\n",
       "      <td>Lawson, Stone and Campos</td>\n",
       "      <td>perfume oil</td>\n",
       "      <td>250.57</td>\n",
       "    </tr>\n",
       "    <tr>\n",
       "      <th>1</th>\n",
       "      <td>3ba38e01-f8e7-4af2-9246-87ef0961d4f5</td>\n",
       "      <td>sea</td>\n",
       "      <td>Washington Group</td>\n",
       "      <td>perfume oil</td>\n",
       "      <td>179.81</td>\n",
       "    </tr>\n",
       "    <tr>\n",
       "      <th>2</th>\n",
       "      <td>a58c53bd-a34b-4541-b926-bec9eb84cac2</td>\n",
       "      <td>suddenly</td>\n",
       "      <td>Rodgers Ltd</td>\n",
       "      <td>perfume oil</td>\n",
       "      <td>600.55</td>\n",
       "    </tr>\n",
       "    <tr>\n",
       "      <th>3</th>\n",
       "      <td>e6021be5-90be-4199-b6c6-82542fb2973c</td>\n",
       "      <td>site</td>\n",
       "      <td>Wilson, Scott and Johnson</td>\n",
       "      <td>perfume oil</td>\n",
       "      <td>414.36</td>\n",
       "    </tr>\n",
       "    <tr>\n",
       "      <th>4</th>\n",
       "      <td>60127671-ab32-4fb5-bfeb-1a7782ad835e</td>\n",
       "      <td>act</td>\n",
       "      <td>Riddle, Alvarez and Robinson</td>\n",
       "      <td>perfume</td>\n",
       "      <td>704.05</td>\n",
       "    </tr>\n",
       "  </tbody>\n",
       "</table>\n",
       "</div>"
      ],
      "text/plain": [
       "                             Product_ID Product_Name  \\\n",
       "0  2ef6e8fa-6a36-4515-b1c2-a0a700abf386      despite   \n",
       "1  3ba38e01-f8e7-4af2-9246-87ef0961d4f5          sea   \n",
       "2  a58c53bd-a34b-4541-b926-bec9eb84cac2     suddenly   \n",
       "3  e6021be5-90be-4199-b6c6-82542fb2973c         site   \n",
       "4  60127671-ab32-4fb5-bfeb-1a7782ad835e          act   \n",
       "\n",
       "                          Brand     Category   Price  \n",
       "0      Lawson, Stone and Campos  perfume oil  250.57  \n",
       "1              Washington Group  perfume oil  179.81  \n",
       "2                   Rodgers Ltd  perfume oil  600.55  \n",
       "3     Wilson, Scott and Johnson  perfume oil  414.36  \n",
       "4  Riddle, Alvarez and Robinson      perfume  704.05  "
      ]
     },
     "execution_count": 80,
     "metadata": {},
     "output_type": "execute_result"
    }
   ],
   "source": [
    "# PRODUCT TABLE\n",
    "Product_df = yanki_df[['Product_ID', 'Product_Name', 'Brand', 'Category', 'Price',]].copy().drop_duplicates().reset_index(drop=True)\n",
    "Product_df.head()"
   ]
  },
  {
   "cell_type": "code",
   "execution_count": null,
   "metadata": {},
   "outputs": [],
   "source": [
    "## SHIPPING ADDRESS TABLE\n",
    "Shipping_Address_df = yanki_df[['Customer_ID', 'Shipping_Address', 'City', 'State', 'Country','Postal_Code',]].copy().drop_duplicates().reset_index(drop=True )\n",
    "Shipping_Address_df.head()\n",
    "# how to add shipping_ID which is the created primary key as a column in the table\n",
    "Shipping_Address_df.index.name = 'Shipping_ID'\n",
    "Shipping_Address_df = Shipping_Address_df.reset_index()\n",
    "Shipping_Address_df.head()"
   ]
  },
  {
   "cell_type": "code",
   "execution_count": null,
   "metadata": {},
   "outputs": [],
   "source": [
    "# ORDER TABLE\n",
    "Order_df = yanki_df[['Order_ID', 'Customer_ID','Product_ID', 'Quantity', 'Total_Price','Order_Date',]].copy().drop_duplicates().reset_index(drop=True )\n",
    "Order_df.head()"
   ]
  },
  {
   "cell_type": "code",
   "execution_count": 69,
   "metadata": {},
   "outputs": [
    {
     "data": {
      "text/html": [
       "<div>\n",
       "<style scoped>\n",
       "    .dataframe tbody tr th:only-of-type {\n",
       "        vertical-align: middle;\n",
       "    }\n",
       "\n",
       "    .dataframe tbody tr th {\n",
       "        vertical-align: top;\n",
       "    }\n",
       "\n",
       "    .dataframe thead th {\n",
       "        text-align: right;\n",
       "    }\n",
       "</style>\n",
       "<table border=\"1\" class=\"dataframe\">\n",
       "  <thead>\n",
       "    <tr style=\"text-align: right;\">\n",
       "      <th></th>\n",
       "      <th>Order_ID</th>\n",
       "      <th>Transaction_Status</th>\n",
       "      <th>Payment_Method</th>\n",
       "    </tr>\n",
       "  </thead>\n",
       "  <tbody>\n",
       "    <tr>\n",
       "      <th>0</th>\n",
       "      <td>e32af09a-b6ab-497e-af3a-331e4d4ed6e7</td>\n",
       "      <td>completed</td>\n",
       "      <td>Debit Card</td>\n",
       "    </tr>\n",
       "    <tr>\n",
       "      <th>1</th>\n",
       "      <td>86eb8859-14ab-4d4e-9267-c5826f4e0c8e</td>\n",
       "      <td>completed</td>\n",
       "      <td>Credit Card</td>\n",
       "    </tr>\n",
       "    <tr>\n",
       "      <th>2</th>\n",
       "      <td>7379b560-8897-4623-92a2-523ddcdc43a1</td>\n",
       "      <td>pending</td>\n",
       "      <td>PayPal</td>\n",
       "    </tr>\n",
       "    <tr>\n",
       "      <th>3</th>\n",
       "      <td>30c57f86-2fed-43c0-a399-654c2c3bb18d</td>\n",
       "      <td>completed</td>\n",
       "      <td>PayPal</td>\n",
       "    </tr>\n",
       "    <tr>\n",
       "      <th>4</th>\n",
       "      <td>41c29d81-9622-43c1-b537-7cdb320d3e6a</td>\n",
       "      <td>pending</td>\n",
       "      <td>PayPal</td>\n",
       "    </tr>\n",
       "  </tbody>\n",
       "</table>\n",
       "</div>"
      ],
      "text/plain": [
       "                               Order_ID Transaction_Status Payment_Method\n",
       "0  e32af09a-b6ab-497e-af3a-331e4d4ed6e7          completed     Debit Card\n",
       "1  86eb8859-14ab-4d4e-9267-c5826f4e0c8e          completed    Credit Card\n",
       "2  7379b560-8897-4623-92a2-523ddcdc43a1            pending         PayPal\n",
       "3  30c57f86-2fed-43c0-a399-654c2c3bb18d          completed         PayPal\n",
       "4  41c29d81-9622-43c1-b537-7cdb320d3e6a            pending         PayPal"
      ]
     },
     "execution_count": 69,
     "metadata": {},
     "output_type": "execute_result"
    }
   ],
   "source": [
    "Payment_Method_df = yanki_df[['Order_ID','Transaction_Status', 'Payment_Method',]].copy().drop_duplicates().reset_index(drop=True )\n",
    "Payment_Method_df.head()\n"
   ]
  },
  {
   "cell_type": "code",
   "execution_count": 70,
   "metadata": {},
   "outputs": [],
   "source": [
    "# SAVE THE TABLES TO CSV\n",
    "Customer_df.to_csv(r'DATASET\\Cleaned_data\\Customers.csv', index=False)\n",
    "Product_df.to_csv(r'DATASET\\Cleaned_data\\Product.csv', index=False)\n",
    "Shipping_Address_df.to_csv(r'DATASET\\Cleaned_data\\Shipping_Address.csv', index=False)\n",
    "Order_df.to_csv(r'DATASET\\Cleaned_data\\Order.csv', index=False)\n",
    "Payment_Method_df.to_csv(r'DATASET\\Cleaned_data\\Payment_Method.csv', index=False)"
   ]
  },
  {
   "cell_type": "code",
   "execution_count": 71,
   "metadata": {},
   "outputs": [],
   "source": [
    "# DATA LOADING \n",
    "# first install and import psycopg2"
   ]
  },
  {
   "cell_type": "code",
   "execution_count": 72,
   "metadata": {},
   "outputs": [
    {
     "name": "stdout",
     "output_type": "stream",
     "text": [
      "Requirement already satisfied: psycopg2 in c:\\users\\back2\\appdata\\local\\anaconda3\\lib\\site-packages (2.9.9)\n"
     ]
    }
   ],
   "source": [
    "!pip install psycopg2"
   ]
  },
  {
   "cell_type": "code",
   "execution_count": 73,
   "metadata": {},
   "outputs": [],
   "source": [
    "import psycopg2"
   ]
  },
  {
   "cell_type": "code",
   "execution_count": 74,
   "metadata": {},
   "outputs": [],
   "source": [
    "# create a connection(go to pgadmin, click of postgresql , go to properties and copy the local host details)\n",
    "def get_db_connection():\n",
    "    connection = psycopg2.connect(\n",
    "        host = 'localhost',\n",
    "        database = 'Yanki_ecommerce',\n",
    "        user = 'postgres',\n",
    "        password = '0852'\n",
    "\n",
    "    )\n",
    "    return connection"
   ]
  },
  {
   "cell_type": "code",
   "execution_count": 75,
   "metadata": {},
   "outputs": [],
   "source": [
    "conn = get_db_connection"
   ]
  },
  {
   "cell_type": "code",
   "execution_count": 95,
   "metadata": {},
   "outputs": [
    {
     "data": {
      "text/plain": [
       "Index(['Order_ID', 'Transaction_Status', 'Payment_Method'], dtype='object')"
      ]
     },
     "metadata": {},
     "output_type": "display_data"
    }
   ],
   "source": [
    "display(Payment_Method_df.columns)"
   ]
  },
  {
   "cell_type": "code",
   "execution_count": 81,
   "metadata": {},
   "outputs": [],
   "source": [
    "# Create your SQL Table \n",
    "def create_tables():\n",
    "    conn = get_db_connection()\n",
    "    cursor = conn.cursor()\n",
    "    create_table_query = '''\n",
    "                            CREATE SCHEMA IF NOT EXISTS Yanki;\n",
    "\n",
    "                            DROP TABLE IF EXISTS Yanki.Customers CASCADE;\n",
    "                            DROP TABLE IF EXISTS Yanki.Products CASCADE;\n",
    "                            DROP TABLE IF EXISTS Yanki.Shipping_Address CASCADE;\n",
    "                            DROP TABLE IF EXISTS Yanki.Order CASCADE;\n",
    "                            DROP TABLE IF EXISTS Yanki.Payment_Method CASCADE;\n",
    "\n",
    "                            CREATE TABLE IF NOT EXISTS Yanki.Customers(\n",
    "                                Customer_ID UUID PRIMARY KEY,\n",
    "                                Customer_Name TEXT,\n",
    "                                Email TEXT,\n",
    "                                Phone_number TEXT\n",
    "                            );\n",
    "                            \n",
    "                            CREATE TABLE IF NOT EXISTS Yanki.Products(\n",
    "                                Product_ID UUID PRIMARY KEY,\n",
    "                                Product_Name TEXT,\n",
    "                                Brand TEXT,\n",
    "                                Category TEXT,\n",
    "                                Price FLOAT\n",
    "                            );\n",
    "\n",
    "                            CREATE TABLE IF NOT EXISTS Yanki.Shipping_Address(\n",
    "                                Shipping_ID SERIAL PRIMARY KEY,\n",
    "                                Customer_ID UUID,\n",
    "                                Shipping_Address TEXT,\n",
    "                                City TEXT,\n",
    "                                State TEXT,\n",
    "                                Country TEXT,\n",
    "                                Postal_Code INTEGER,\n",
    "                                FOREIGN KEY(Customer_ID) REFERENCES Yanki.Customers(Customer_ID)\n",
    "\n",
    "                            );\n",
    "\n",
    "                            CREATE TABLE IF NOT EXISTS Yanki.Orders(\n",
    "                                Order_ID UUID PRIMARY KEY,\n",
    "                                Customer_ID UUID,\n",
    "                                Product_ID UUID,\n",
    "                                Quantity INTEGER,\n",
    "                                Total_Price FLOAT,\n",
    "                                Order_Date DATE,\n",
    "                                FOREIGN KEY(Customer_ID) REFERENCES Yanki.Customers(Customer_ID),\n",
    "                                FOREIGN KEY(Product_ID) REFERENCES Yanki.Products(Product_ID)\n",
    "                            );\n",
    "\n",
    "                            CREATE TABLE IF NOT EXISTS Yanki.Payment_Method(\n",
    "                                Order_ID UUID,\n",
    "                                Payment_Method TEXT,\n",
    "                                Transaction_Status TEXT,\n",
    "                                FOREIGN KEY(Order_ID) REFERENCES Yanki.Orders(Order_ID)\n",
    "                            );'''\n",
    "    cursor.execute(create_table_query)\n",
    "    conn.commit()\n",
    "    cursor.close()\n",
    "    conn.close()"
   ]
  },
  {
   "cell_type": "code",
   "execution_count": 82,
   "metadata": {},
   "outputs": [],
   "source": [
    "create_tables()"
   ]
  },
  {
   "cell_type": "markdown",
   "metadata": {},
   "source": [
    "# HOW TO LOAD DATA INTO THE CREATED TABLES"
   ]
  },
  {
   "cell_type": "code",
   "execution_count": 96,
   "metadata": {},
   "outputs": [],
   "source": [
    " \n",
    "import csv\n",
    "def load_data_from_csv(csv_path):\n",
    "    conn=get_db_connection()\n",
    "    cursor = conn.cursor()\n",
    "    with open(csv_path, 'r') as file:\n",
    "        reader = csv.reader(file)\n",
    "        next(reader)\n",
    "        for row in reader:\n",
    "            cursor.execute('''\n",
    "                            INSERT INTO Yanki.Payment_Method (Order_ID,Transaction_Status,Payment_Method)\n",
    "                            VALUES (%s, %s, %s);''',\n",
    "                            row\n",
    "                        )\n",
    "    conn.commit()\n",
    "    cursor.close()\n",
    "    conn.close()\n",
    "\n",
    "csv_file_path = r'DATASET\\Cleaned_data\\Payment_Method.csv'\n",
    "\n",
    "load_data_from_csv(csv_file_path)        \n"
   ]
  }
 ],
 "metadata": {
  "kernelspec": {
   "display_name": "base",
   "language": "python",
   "name": "python3"
  },
  "language_info": {
   "codemirror_mode": {
    "name": "ipython",
    "version": 3
   },
   "file_extension": ".py",
   "mimetype": "text/x-python",
   "name": "python",
   "nbconvert_exporter": "python",
   "pygments_lexer": "ipython3",
   "version": "3.11.7"
  }
 },
 "nbformat": 4,
 "nbformat_minor": 2
}
